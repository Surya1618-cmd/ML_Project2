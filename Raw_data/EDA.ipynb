{
 "cells": [
  {
   "cell_type": "code",
   "execution_count": 1,
   "id": "09dc769d-be4e-49f4-bec1-054918c7ea70",
   "metadata": {},
   "outputs": [],
   "source": [
    "import numpy as np\n",
    "import pandas as pd\n",
    "import seaborn as sns\n",
    "import matplotlib.pyplot as plt\n",
    "%matplotlib inline\n",
    "import warnings\n",
    "warnings.filterwarnings('ignore')"
   ]
  },
  {
   "cell_type": "code",
   "execution_count": 3,
   "id": "d9e0f17d-5ad7-4026-9e4b-2c305e13df08",
   "metadata": {},
   "outputs": [],
   "source": [
    "df=pd.read_csv(\"health_dataset_with_issues.csv\")"
   ]
  },
  {
   "cell_type": "code",
   "execution_count": 4,
   "id": "b91794fb-bb56-4349-844e-84557fb510d0",
   "metadata": {},
   "outputs": [
    {
     "data": {
      "text/html": [
       "<div>\n",
       "<style scoped>\n",
       "    .dataframe tbody tr th:only-of-type {\n",
       "        vertical-align: middle;\n",
       "    }\n",
       "\n",
       "    .dataframe tbody tr th {\n",
       "        vertical-align: top;\n",
       "    }\n",
       "\n",
       "    .dataframe thead th {\n",
       "        text-align: right;\n",
       "    }\n",
       "</style>\n",
       "<table border=\"1\" class=\"dataframe\">\n",
       "  <thead>\n",
       "    <tr style=\"text-align: right;\">\n",
       "      <th></th>\n",
       "      <th>Age</th>\n",
       "      <th>Sex</th>\n",
       "      <th>BMI</th>\n",
       "      <th>Smoker</th>\n",
       "      <th>AlcoholConsumption</th>\n",
       "      <th>PhysicalActivity</th>\n",
       "      <th>DietQuality</th>\n",
       "      <th>BloodPressure</th>\n",
       "      <th>GlucoseLevel</th>\n",
       "      <th>CholesterolLevel</th>\n",
       "      <th>...</th>\n",
       "      <th>Diabetes</th>\n",
       "      <th>Hypertension</th>\n",
       "      <th>Asthma</th>\n",
       "      <th>KidneyDisease</th>\n",
       "      <th>LiverDisease</th>\n",
       "      <th>Cancer</th>\n",
       "      <th>Obesity</th>\n",
       "      <th>Arthritis</th>\n",
       "      <th>COPD</th>\n",
       "      <th>MentalHealthIssue</th>\n",
       "    </tr>\n",
       "  </thead>\n",
       "  <tbody>\n",
       "    <tr>\n",
       "      <th>0</th>\n",
       "      <td>56.0</td>\n",
       "      <td>Male</td>\n",
       "      <td>18.0</td>\n",
       "      <td>Yes</td>\n",
       "      <td>High</td>\n",
       "      <td>Active</td>\n",
       "      <td>Good</td>\n",
       "      <td>Hypertension</td>\n",
       "      <td>181.0</td>\n",
       "      <td>186.0</td>\n",
       "      <td>...</td>\n",
       "      <td>No</td>\n",
       "      <td>No</td>\n",
       "      <td>Yes</td>\n",
       "      <td>NaN</td>\n",
       "      <td>Yes</td>\n",
       "      <td>Yes</td>\n",
       "      <td>Yes</td>\n",
       "      <td>Yes</td>\n",
       "      <td>No</td>\n",
       "      <td>Yes</td>\n",
       "    </tr>\n",
       "    <tr>\n",
       "      <th>1</th>\n",
       "      <td>69.0</td>\n",
       "      <td>Male</td>\n",
       "      <td>33.3</td>\n",
       "      <td>No</td>\n",
       "      <td>Moderate</td>\n",
       "      <td>Sedentary</td>\n",
       "      <td>Poor</td>\n",
       "      <td>Hypertension</td>\n",
       "      <td>127.0</td>\n",
       "      <td>259.0</td>\n",
       "      <td>...</td>\n",
       "      <td>Yes</td>\n",
       "      <td>NaN</td>\n",
       "      <td>Yes</td>\n",
       "      <td>No</td>\n",
       "      <td>Yes</td>\n",
       "      <td>Yes</td>\n",
       "      <td>Yes</td>\n",
       "      <td>No</td>\n",
       "      <td>Yes</td>\n",
       "      <td>No</td>\n",
       "    </tr>\n",
       "    <tr>\n",
       "      <th>2</th>\n",
       "      <td>46.0</td>\n",
       "      <td>Female</td>\n",
       "      <td>19.8</td>\n",
       "      <td>No</td>\n",
       "      <td>Moderate</td>\n",
       "      <td>Sedentary</td>\n",
       "      <td>Good</td>\n",
       "      <td>NaN</td>\n",
       "      <td>147.0</td>\n",
       "      <td>219.0</td>\n",
       "      <td>...</td>\n",
       "      <td>No</td>\n",
       "      <td>No</td>\n",
       "      <td>Yes</td>\n",
       "      <td>Yes</td>\n",
       "      <td>Yes</td>\n",
       "      <td>No</td>\n",
       "      <td>Yes</td>\n",
       "      <td>No</td>\n",
       "      <td>Yes</td>\n",
       "      <td>No</td>\n",
       "    </tr>\n",
       "    <tr>\n",
       "      <th>3</th>\n",
       "      <td>32.0</td>\n",
       "      <td>Male</td>\n",
       "      <td>17.9</td>\n",
       "      <td>Yes</td>\n",
       "      <td>Moderate</td>\n",
       "      <td>Sedentary</td>\n",
       "      <td>Good</td>\n",
       "      <td>Normal</td>\n",
       "      <td>144.0</td>\n",
       "      <td>131.0</td>\n",
       "      <td>...</td>\n",
       "      <td>No</td>\n",
       "      <td>Yes</td>\n",
       "      <td>Yes</td>\n",
       "      <td>Yes</td>\n",
       "      <td>No</td>\n",
       "      <td>No</td>\n",
       "      <td>Yes</td>\n",
       "      <td>Yes</td>\n",
       "      <td>Yes</td>\n",
       "      <td>No</td>\n",
       "    </tr>\n",
       "    <tr>\n",
       "      <th>4</th>\n",
       "      <td>60.0</td>\n",
       "      <td>Male</td>\n",
       "      <td>25.5</td>\n",
       "      <td>No</td>\n",
       "      <td>Moderate</td>\n",
       "      <td>Active</td>\n",
       "      <td>Good</td>\n",
       "      <td>Prehypertension</td>\n",
       "      <td>111.0</td>\n",
       "      <td>185.0</td>\n",
       "      <td>...</td>\n",
       "      <td>No</td>\n",
       "      <td>Yes</td>\n",
       "      <td>No</td>\n",
       "      <td>No</td>\n",
       "      <td>No</td>\n",
       "      <td>Yes</td>\n",
       "      <td>No</td>\n",
       "      <td>Yes</td>\n",
       "      <td>Yes</td>\n",
       "      <td>Yes</td>\n",
       "    </tr>\n",
       "  </tbody>\n",
       "</table>\n",
       "<p>5 rows × 22 columns</p>\n",
       "</div>"
      ],
      "text/plain": [
       "    Age     Sex   BMI Smoker AlcoholConsumption PhysicalActivity DietQuality  \\\n",
       "0  56.0    Male  18.0    Yes               High           Active        Good   \n",
       "1  69.0    Male  33.3     No           Moderate        Sedentary        Poor   \n",
       "2  46.0  Female  19.8     No           Moderate        Sedentary        Good   \n",
       "3  32.0    Male  17.9    Yes           Moderate        Sedentary        Good   \n",
       "4  60.0    Male  25.5     No           Moderate           Active        Good   \n",
       "\n",
       "     BloodPressure  GlucoseLevel  CholesterolLevel  ... Diabetes Hypertension  \\\n",
       "0     Hypertension         181.0             186.0  ...       No           No   \n",
       "1     Hypertension         127.0             259.0  ...      Yes          NaN   \n",
       "2              NaN         147.0             219.0  ...       No           No   \n",
       "3           Normal         144.0             131.0  ...       No          Yes   \n",
       "4  Prehypertension         111.0             185.0  ...       No          Yes   \n",
       "\n",
       "  Asthma KidneyDisease LiverDisease Cancer Obesity Arthritis COPD  \\\n",
       "0    Yes           NaN          Yes    Yes     Yes       Yes   No   \n",
       "1    Yes            No          Yes    Yes     Yes        No  Yes   \n",
       "2    Yes           Yes          Yes     No     Yes        No  Yes   \n",
       "3    Yes           Yes           No     No     Yes       Yes  Yes   \n",
       "4     No            No           No    Yes      No       Yes  Yes   \n",
       "\n",
       "  MentalHealthIssue  \n",
       "0               Yes  \n",
       "1                No  \n",
       "2                No  \n",
       "3                No  \n",
       "4               Yes  \n",
       "\n",
       "[5 rows x 22 columns]"
      ]
     },
     "execution_count": 4,
     "metadata": {},
     "output_type": "execute_result"
    }
   ],
   "source": [
    "df.head()"
   ]
  },
  {
   "cell_type": "code",
   "execution_count": 5,
   "id": "369196a2-5573-4fb4-a88d-4e3dba10acd2",
   "metadata": {},
   "outputs": [
    {
     "data": {
      "text/plain": [
       "(1000, 22)"
      ]
     },
     "execution_count": 5,
     "metadata": {},
     "output_type": "execute_result"
    }
   ],
   "source": [
    "df.shape"
   ]
  },
  {
   "cell_type": "code",
   "execution_count": 9,
   "id": "5bebb282-8bac-444b-b73d-8b71646ad1e0",
   "metadata": {},
   "outputs": [
    {
     "data": {
      "text/plain": [
       "Age                   0\n",
       "Sex                   0\n",
       "BMI                   0\n",
       "Smoker                0\n",
       "AlcoholConsumption    0\n",
       "PhysicalActivity      0\n",
       "DietQuality           0\n",
       "BloodPressure         0\n",
       "GlucoseLevel          0\n",
       "CholesterolLevel      0\n",
       "FamilyHistory         0\n",
       "HeartDisease          0\n",
       "Diabetes              0\n",
       "Hypertension          0\n",
       "Asthma                0\n",
       "KidneyDisease         0\n",
       "LiverDisease          0\n",
       "Cancer                0\n",
       "Obesity               0\n",
       "Arthritis             0\n",
       "COPD                  0\n",
       "MentalHealthIssue     0\n",
       "dtype: int64"
      ]
     },
     "execution_count": 9,
     "metadata": {},
     "output_type": "execute_result"
    }
   ],
   "source": [
    "df.isna().sum()"
   ]
  },
  {
   "cell_type": "code",
   "execution_count": 8,
   "id": "d7723f6c-6de1-4d2f-ac84-ecb6e992e7e2",
   "metadata": {},
   "outputs": [
    {
     "data": {
      "text/plain": [
       "(Age                   0\n",
       " Sex                   0\n",
       " BMI                   0\n",
       " Smoker                0\n",
       " AlcoholConsumption    0\n",
       " dtype: int64,\n",
       " 0)"
      ]
     },
     "execution_count": 8,
     "metadata": {},
     "output_type": "execute_result"
    }
   ],
   "source": [
    "import pandas as pd\n",
    "df=pd.read_csv(\"health_dataset_with_issues.csv\")\n",
    "missing_values = df.isnull().sum()\n",
    "for column in df.columns:\n",
    "    if df[column].dtype in ['float64', 'int64']:\n",
    "        df[column].fillna(df[column].median(), inplace=True)\n",
    "    else:\n",
    "        df[column].fillna(df[column].mode()[0], inplace=True)\n",
    "cleaned_missing = df.isnull().sum()\n",
    "cleaned_missing.head(), cleaned_missing.sum()"
   ]
  },
  {
   "cell_type": "code",
   "execution_count": 10,
   "id": "448b9c4b-9c85-4589-9066-338d5eda15c4",
   "metadata": {},
   "outputs": [
    {
     "data": {
      "image/png": "[encoded data removed]",
      "text/plain": [
       "<Figure size 1500x1000 with 4 Axes>"
      ]
     },
     "metadata": {},
     "output_type": "display_data"
    }
   ],
   "source": [
    "import matplotlib.pyplot as plt\n",
    "import seaborn as sns\n",
    "numeric_cols = df.select_dtypes(include=['float64', 'int64']).columns\n",
    "plt.figure(figsize=(15, 10))\n",
    "for i, col in enumerate(numeric_cols, 1):\n",
    "    plt.subplot(len(numeric_cols)//3 + 1, 3, i)\n",
    "    sns.boxplot(y=df[col], color='skyblue')\n",
    "    plt.title(f'Boxplot of {col}', fontsize=10)\n",
    "plt.tight_layout()\n",
    "plt.show()"
   ]
  },
  {
   "cell_type": "code",
   "execution_count": 11,
   "id": "c0ac90ce-aa2e-47c8-8fc4-bb60cfacd927",
   "metadata": {},
   "outputs": [
    {
     "name": "stdout",
     "output_type": "stream",
     "text": [
      "Total outliers detected: 0\n"
     ]
    }
   ],
   "source": [
    "from scipy.stats import zscore\n",
    "import numpy as np\n",
    "z_scores = np.abs(zscore(df[numeric_cols]))\n",
    "outliers = (z_scores > 3).any(axis=1)\n",
    "print(f\"Total outliers detected: {outliers.sum()}\")"
   ]
  },
  {
   "cell_type": "code",
   "execution_count": null,
   "id": "91a7da96-d9b9-49e2-a68c-3e349132dac7",
   "metadata": {},
   "outputs": [],
   "source": []
  }
 ],
 "metadata": {
  "kernelspec": {
   "display_name": "Python 3 (ipykernel)",
   "language": "python",
   "name": "python3"
  },
  "language_info": {
   "codemirror_mode": {
    "name": "ipython",
    "version": 3
   },
   "file_extension": ".py",
   "mimetype": "text/x-python",
   "name": "python",
   "nbconvert_exporter": "python",
   "pygments_lexer": "ipython3",
   "version": "3.11.7"
  }
 },
 "nbformat": 4,
 "nbformat_minor": 5
}
